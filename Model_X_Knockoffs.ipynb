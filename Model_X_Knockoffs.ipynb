{
  "cells": [
    {
      "cell_type": "markdown",
      "metadata": {
        "id": "view-in-github",
        "colab_type": "text"
      },
      "source": [
        "<a href=\"https://colab.research.google.com/github/BenedettaFrancesconi/Granger_DeepAR_Indonesia/blob/main/Model_X_Knockoffs.ipynb\" target=\"_parent\"><img src=\"https://colab.research.google.com/assets/colab-badge.svg\" alt=\"Open In Colab\"/></a>"
      ]
    },
    {
      "cell_type": "markdown",
      "metadata": {
        "id": "prry6JFYhCmi"
      },
      "source": [
        "# Data retrieval and preparation"
      ]
    },
    {
      "cell_type": "code",
      "execution_count": null,
      "metadata": {
        "id": "HF9AAIPDhFhD"
      },
      "outputs": [],
      "source": [
        "import pandas as pd\n",
        "import matplotlib.pyplot as plt\n",
        "from scipy import signal"
      ]
    },
    {
      "cell_type": "code",
      "execution_count": null,
      "metadata": {
        "id": "B3HftWxkgFYL"
      },
      "outputs": [],
      "source": [
        "Indonesia = pd.read_csv('Indonesia_timeseries_mean.csv')"
      ]
    },
    {
      "cell_type": "code",
      "execution_count": null,
      "metadata": {
        "colab": {
          "base_uri": "https://localhost:8080/",
          "height": 417
        },
        "id": "weH0Z4BxBnn9",
        "outputId": "52f7004d-8638-4a02-8f2f-f610b6e45473"
      },
      "outputs": [
        {
          "data": {
            "text/html": [
              "\n",
              "  <div id=\"df-1dbe1b7b-ede5-4efb-80f1-60b83bbcccf4\" class=\"colab-df-container\">\n",
              "    <div>\n",
              "<style scoped>\n",
              "    .dataframe tbody tr th:only-of-type {\n",
              "        vertical-align: middle;\n",
              "    }\n",
              "\n",
              "    .dataframe tbody tr th {\n",
              "        vertical-align: top;\n",
              "    }\n",
              "\n",
              "    .dataframe thead th {\n",
              "        text-align: right;\n",
              "    }\n",
              "</style>\n",
              "<table border=\"1\" class=\"dataframe\">\n",
              "  <thead>\n",
              "    <tr style=\"text-align: right;\">\n",
              "      <th></th>\n",
              "      <th>cropFrac</th>\n",
              "      <th>gpp</th>\n",
              "      <th>grassFrac</th>\n",
              "      <th>nbp</th>\n",
              "      <th>npp</th>\n",
              "      <th>pastureFrac</th>\n",
              "      <th>treeFrac</th>\n",
              "      <th>nep</th>\n",
              "      <th>pr</th>\n",
              "      <th>rsds</th>\n",
              "      <th>rsus</th>\n",
              "      <th>tas</th>\n",
              "    </tr>\n",
              "    <tr>\n",
              "      <th>time</th>\n",
              "      <th></th>\n",
              "      <th></th>\n",
              "      <th></th>\n",
              "      <th></th>\n",
              "      <th></th>\n",
              "      <th></th>\n",
              "      <th></th>\n",
              "      <th></th>\n",
              "      <th></th>\n",
              "      <th></th>\n",
              "      <th></th>\n",
              "      <th></th>\n",
              "    </tr>\n",
              "  </thead>\n",
              "  <tbody>\n",
              "    <tr>\n",
              "      <th>1850-01-16 12:00:00</th>\n",
              "      <td>0.655965</td>\n",
              "      <td>4.923347e-08</td>\n",
              "      <td>7.878640</td>\n",
              "      <td>-3.374646e-09</td>\n",
              "      <td>2.103969e-08</td>\n",
              "      <td>0.115874</td>\n",
              "      <td>12.365179</td>\n",
              "      <td>-2.800102e-09</td>\n",
              "      <td>0.000127</td>\n",
              "      <td>204.66885</td>\n",
              "      <td>13.699398</td>\n",
              "      <td>299.48627</td>\n",
              "    </tr>\n",
              "    <tr>\n",
              "      <th>1850-02-15 00:00:00</th>\n",
              "      <td>0.655965</td>\n",
              "      <td>5.173679e-08</td>\n",
              "      <td>7.948023</td>\n",
              "      <td>1.254644e-09</td>\n",
              "      <td>2.432577e-08</td>\n",
              "      <td>0.115874</td>\n",
              "      <td>12.368155</td>\n",
              "      <td>1.938519e-09</td>\n",
              "      <td>0.000120</td>\n",
              "      <td>206.91608</td>\n",
              "      <td>13.525014</td>\n",
              "      <td>299.32812</td>\n",
              "    </tr>\n",
              "    <tr>\n",
              "      <th>1850-03-16 12:00:00</th>\n",
              "      <td>0.655965</td>\n",
              "      <td>5.405059e-08</td>\n",
              "      <td>8.028105</td>\n",
              "      <td>3.827634e-09</td>\n",
              "      <td>2.587070e-08</td>\n",
              "      <td>0.115874</td>\n",
              "      <td>12.369579</td>\n",
              "      <td>4.487882e-09</td>\n",
              "      <td>0.000123</td>\n",
              "      <td>208.66682</td>\n",
              "      <td>13.711241</td>\n",
              "      <td>299.33707</td>\n",
              "    </tr>\n",
              "    <tr>\n",
              "      <th>1850-04-16 00:00:00</th>\n",
              "      <td>0.655965</td>\n",
              "      <td>5.238121e-08</td>\n",
              "      <td>8.111268</td>\n",
              "      <td>2.724934e-09</td>\n",
              "      <td>2.393364e-08</td>\n",
              "      <td>0.115874</td>\n",
              "      <td>12.373181</td>\n",
              "      <td>3.417906e-09</td>\n",
              "      <td>0.000116</td>\n",
              "      <td>209.31406</td>\n",
              "      <td>13.727771</td>\n",
              "      <td>299.73420</td>\n",
              "    </tr>\n",
              "    <tr>\n",
              "      <th>1850-05-16 12:00:00</th>\n",
              "      <td>0.655965</td>\n",
              "      <td>5.258140e-08</td>\n",
              "      <td>8.176949</td>\n",
              "      <td>1.705504e-09</td>\n",
              "      <td>2.430349e-08</td>\n",
              "      <td>0.115874</td>\n",
              "      <td>12.378870</td>\n",
              "      <td>2.285713e-09</td>\n",
              "      <td>0.000078</td>\n",
              "      <td>211.94884</td>\n",
              "      <td>14.260654</td>\n",
              "      <td>299.64816</td>\n",
              "    </tr>\n",
              "  </tbody>\n",
              "</table>\n",
              "</div>\n",
              "    <div class=\"colab-df-buttons\">\n",
              "\n",
              "  <div class=\"colab-df-container\">\n",
              "    <button class=\"colab-df-convert\" onclick=\"convertToInteractive('df-1dbe1b7b-ede5-4efb-80f1-60b83bbcccf4')\"\n",
              "            title=\"Convert this dataframe to an interactive table.\"\n",
              "            style=\"display:none;\">\n",
              "\n",
              "  <svg xmlns=\"http://www.w3.org/2000/svg\" height=\"24px\" viewBox=\"0 -960 960 960\">\n",
              "    <path d=\"M120-120v-720h720v720H120Zm60-500h600v-160H180v160Zm220 220h160v-160H400v160Zm0 220h160v-160H400v160ZM180-400h160v-160H180v160Zm440 0h160v-160H620v160ZM180-180h160v-160H180v160Zm440 0h160v-160H620v160Z\"/>\n",
              "  </svg>\n",
              "    </button>\n",
              "\n",
              "  <style>\n",
              "    .colab-df-container {\n",
              "      display:flex;\n",
              "      gap: 12px;\n",
              "    }\n",
              "\n",
              "    .colab-df-convert {\n",
              "      background-color: #E8F0FE;\n",
              "      border: none;\n",
              "      border-radius: 50%;\n",
              "      cursor: pointer;\n",
              "      display: none;\n",
              "      fill: #1967D2;\n",
              "      height: 32px;\n",
              "      padding: 0 0 0 0;\n",
              "      width: 32px;\n",
              "    }\n",
              "\n",
              "    .colab-df-convert:hover {\n",
              "      background-color: #E2EBFA;\n",
              "      box-shadow: 0px 1px 2px rgba(60, 64, 67, 0.3), 0px 1px 3px 1px rgba(60, 64, 67, 0.15);\n",
              "      fill: #174EA6;\n",
              "    }\n",
              "\n",
              "    .colab-df-buttons div {\n",
              "      margin-bottom: 4px;\n",
              "    }\n",
              "\n",
              "    [theme=dark] .colab-df-convert {\n",
              "      background-color: #3B4455;\n",
              "      fill: #D2E3FC;\n",
              "    }\n",
              "\n",
              "    [theme=dark] .colab-df-convert:hover {\n",
              "      background-color: #434B5C;\n",
              "      box-shadow: 0px 1px 3px 1px rgba(0, 0, 0, 0.15);\n",
              "      filter: drop-shadow(0px 1px 2px rgba(0, 0, 0, 0.3));\n",
              "      fill: #FFFFFF;\n",
              "    }\n",
              "  </style>\n",
              "\n",
              "    <script>\n",
              "      const buttonEl =\n",
              "        document.querySelector('#df-1dbe1b7b-ede5-4efb-80f1-60b83bbcccf4 button.colab-df-convert');\n",
              "      buttonEl.style.display =\n",
              "        google.colab.kernel.accessAllowed ? 'block' : 'none';\n",
              "\n",
              "      async function convertToInteractive(key) {\n",
              "        const element = document.querySelector('#df-1dbe1b7b-ede5-4efb-80f1-60b83bbcccf4');\n",
              "        const dataTable =\n",
              "          await google.colab.kernel.invokeFunction('convertToInteractive',\n",
              "                                                    [key], {});\n",
              "        if (!dataTable) return;\n",
              "\n",
              "        const docLinkHtml = 'Like what you see? Visit the ' +\n",
              "          '<a target=\"_blank\" href=https://colab.research.google.com/notebooks/data_table.ipynb>data table notebook</a>'\n",
              "          + ' to learn more about interactive tables.';\n",
              "        element.innerHTML = '';\n",
              "        dataTable['output_type'] = 'display_data';\n",
              "        await google.colab.output.renderOutput(dataTable, element);\n",
              "        const docLink = document.createElement('div');\n",
              "        docLink.innerHTML = docLinkHtml;\n",
              "        element.appendChild(docLink);\n",
              "      }\n",
              "    </script>\n",
              "  </div>\n",
              "\n",
              "\n",
              "<div id=\"df-98841118-e7a3-4c8e-ab08-bb27f3a1a258\">\n",
              "  <button class=\"colab-df-quickchart\" onclick=\"quickchart('df-98841118-e7a3-4c8e-ab08-bb27f3a1a258')\"\n",
              "            title=\"Suggest charts.\"\n",
              "            style=\"display:none;\">\n",
              "\n",
              "<svg xmlns=\"http://www.w3.org/2000/svg\" height=\"24px\"viewBox=\"0 0 24 24\"\n",
              "     width=\"24px\">\n",
              "    <g>\n",
              "        <path d=\"M19 3H5c-1.1 0-2 .9-2 2v14c0 1.1.9 2 2 2h14c1.1 0 2-.9 2-2V5c0-1.1-.9-2-2-2zM9 17H7v-7h2v7zm4 0h-2V7h2v10zm4 0h-2v-4h2v4z\"/>\n",
              "    </g>\n",
              "</svg>\n",
              "  </button>\n",
              "\n",
              "<style>\n",
              "  .colab-df-quickchart {\n",
              "      --bg-color: #E8F0FE;\n",
              "      --fill-color: #1967D2;\n",
              "      --hover-bg-color: #E2EBFA;\n",
              "      --hover-fill-color: #174EA6;\n",
              "      --disabled-fill-color: #AAA;\n",
              "      --disabled-bg-color: #DDD;\n",
              "  }\n",
              "\n",
              "  [theme=dark] .colab-df-quickchart {\n",
              "      --bg-color: #3B4455;\n",
              "      --fill-color: #D2E3FC;\n",
              "      --hover-bg-color: #434B5C;\n",
              "      --hover-fill-color: #FFFFFF;\n",
              "      --disabled-bg-color: #3B4455;\n",
              "      --disabled-fill-color: #666;\n",
              "  }\n",
              "\n",
              "  .colab-df-quickchart {\n",
              "    background-color: var(--bg-color);\n",
              "    border: none;\n",
              "    border-radius: 50%;\n",
              "    cursor: pointer;\n",
              "    display: none;\n",
              "    fill: var(--fill-color);\n",
              "    height: 32px;\n",
              "    padding: 0;\n",
              "    width: 32px;\n",
              "  }\n",
              "\n",
              "  .colab-df-quickchart:hover {\n",
              "    background-color: var(--hover-bg-color);\n",
              "    box-shadow: 0 1px 2px rgba(60, 64, 67, 0.3), 0 1px 3px 1px rgba(60, 64, 67, 0.15);\n",
              "    fill: var(--button-hover-fill-color);\n",
              "  }\n",
              "\n",
              "  .colab-df-quickchart-complete:disabled,\n",
              "  .colab-df-quickchart-complete:disabled:hover {\n",
              "    background-color: var(--disabled-bg-color);\n",
              "    fill: var(--disabled-fill-color);\n",
              "    box-shadow: none;\n",
              "  }\n",
              "\n",
              "  .colab-df-spinner {\n",
              "    border: 2px solid var(--fill-color);\n",
              "    border-color: transparent;\n",
              "    border-bottom-color: var(--fill-color);\n",
              "    animation:\n",
              "      spin 1s steps(1) infinite;\n",
              "  }\n",
              "\n",
              "  @keyframes spin {\n",
              "    0% {\n",
              "      border-color: transparent;\n",
              "      border-bottom-color: var(--fill-color);\n",
              "      border-left-color: var(--fill-color);\n",
              "    }\n",
              "    20% {\n",
              "      border-color: transparent;\n",
              "      border-left-color: var(--fill-color);\n",
              "      border-top-color: var(--fill-color);\n",
              "    }\n",
              "    30% {\n",
              "      border-color: transparent;\n",
              "      border-left-color: var(--fill-color);\n",
              "      border-top-color: var(--fill-color);\n",
              "      border-right-color: var(--fill-color);\n",
              "    }\n",
              "    40% {\n",
              "      border-color: transparent;\n",
              "      border-right-color: var(--fill-color);\n",
              "      border-top-color: var(--fill-color);\n",
              "    }\n",
              "    60% {\n",
              "      border-color: transparent;\n",
              "      border-right-color: var(--fill-color);\n",
              "    }\n",
              "    80% {\n",
              "      border-color: transparent;\n",
              "      border-right-color: var(--fill-color);\n",
              "      border-bottom-color: var(--fill-color);\n",
              "    }\n",
              "    90% {\n",
              "      border-color: transparent;\n",
              "      border-bottom-color: var(--fill-color);\n",
              "    }\n",
              "  }\n",
              "</style>\n",
              "\n",
              "  <script>\n",
              "    async function quickchart(key) {\n",
              "      const quickchartButtonEl =\n",
              "        document.querySelector('#' + key + ' button');\n",
              "      quickchartButtonEl.disabled = true;  // To prevent multiple clicks.\n",
              "      quickchartButtonEl.classList.add('colab-df-spinner');\n",
              "      try {\n",
              "        const charts = await google.colab.kernel.invokeFunction(\n",
              "            'suggestCharts', [key], {});\n",
              "      } catch (error) {\n",
              "        console.error('Error during call to suggestCharts:', error);\n",
              "      }\n",
              "      quickchartButtonEl.classList.remove('colab-df-spinner');\n",
              "      quickchartButtonEl.classList.add('colab-df-quickchart-complete');\n",
              "    }\n",
              "    (() => {\n",
              "      let quickchartButtonEl =\n",
              "        document.querySelector('#df-98841118-e7a3-4c8e-ab08-bb27f3a1a258 button');\n",
              "      quickchartButtonEl.style.display =\n",
              "        google.colab.kernel.accessAllowed ? 'block' : 'none';\n",
              "    })();\n",
              "  </script>\n",
              "</div>\n",
              "    </div>\n",
              "  </div>\n"
            ],
            "text/plain": [
              "                     cropFrac           gpp  grassFrac           nbp  \\\n",
              "time                                                                   \n",
              "1850-01-16 12:00:00  0.655965  4.923347e-08   7.878640 -3.374646e-09   \n",
              "1850-02-15 00:00:00  0.655965  5.173679e-08   7.948023  1.254644e-09   \n",
              "1850-03-16 12:00:00  0.655965  5.405059e-08   8.028105  3.827634e-09   \n",
              "1850-04-16 00:00:00  0.655965  5.238121e-08   8.111268  2.724934e-09   \n",
              "1850-05-16 12:00:00  0.655965  5.258140e-08   8.176949  1.705504e-09   \n",
              "\n",
              "                              npp  pastureFrac   treeFrac           nep  \\\n",
              "time                                                                      \n",
              "1850-01-16 12:00:00  2.103969e-08     0.115874  12.365179 -2.800102e-09   \n",
              "1850-02-15 00:00:00  2.432577e-08     0.115874  12.368155  1.938519e-09   \n",
              "1850-03-16 12:00:00  2.587070e-08     0.115874  12.369579  4.487882e-09   \n",
              "1850-04-16 00:00:00  2.393364e-08     0.115874  12.373181  3.417906e-09   \n",
              "1850-05-16 12:00:00  2.430349e-08     0.115874  12.378870  2.285713e-09   \n",
              "\n",
              "                           pr       rsds       rsus        tas  \n",
              "time                                                            \n",
              "1850-01-16 12:00:00  0.000127  204.66885  13.699398  299.48627  \n",
              "1850-02-15 00:00:00  0.000120  206.91608  13.525014  299.32812  \n",
              "1850-03-16 12:00:00  0.000123  208.66682  13.711241  299.33707  \n",
              "1850-04-16 00:00:00  0.000116  209.31406  13.727771  299.73420  \n",
              "1850-05-16 12:00:00  0.000078  211.94884  14.260654  299.64816  "
            ]
          },
          "execution_count": 33,
          "metadata": {},
          "output_type": "execute_result"
        }
      ],
      "source": [
        "## Set the time as an index if needed\n",
        "\n",
        "\n",
        "Indonesia['time'] = pd.to_datetime(Indonesia['time'])\n",
        "Indonesia.index = Indonesia['time']\n",
        "Indonesia.drop(['time','areacella'],axis='columns', inplace=True)\n",
        "Indonesia.head(5)"
      ]
    },
    {
      "cell_type": "code",
      "execution_count": null,
      "metadata": {
        "colab": {
          "base_uri": "https://localhost:8080/"
        },
        "id": "Y75iahxNCw6F",
        "outputId": "18e7bc0f-fd64-4ce5-d6e7-f2e61840459f"
      },
      "outputs": [
        {
          "name": "stdout",
          "output_type": "stream",
          "text": [
            "cropFrac\n",
            "gpp\n",
            "grassFrac\n",
            "nbp\n",
            "npp\n",
            "pastureFrac\n",
            "treeFrac\n",
            "nep\n",
            "pr\n",
            "rsds\n",
            "rsus\n",
            "tas\n"
          ]
        }
      ],
      "source": [
        "for c in Indonesia.columns:\n",
        "  print(c)"
      ]
    },
    {
      "cell_type": "code",
      "execution_count": null,
      "metadata": {
        "colab": {
          "base_uri": "https://localhost:8080/"
        },
        "id": "ehN4Qn8xhTjp",
        "outputId": "284147a5-3cff-4452-d2b9-802f0d9da51c"
      },
      "outputs": [
        {
          "name": "stdout",
          "output_type": "stream",
          "text": [
            "cropFrac\n",
            "ADF Statistic: 4.551206\n",
            "p-value: 1.000000\n",
            "Critical Values:\n",
            "\n",
            "grassFrac\n",
            "ADF Statistic: -2.162340\n",
            "p-value: 0.220197\n",
            "Critical Values:\n",
            "\n",
            "pastureFrac\n",
            "ADF Statistic: -0.802126\n",
            "p-value: 0.818497\n",
            "Critical Values:\n",
            "\n",
            "treeFrac\n",
            "ADF Statistic: 3.658358\n",
            "p-value: 1.000000\n",
            "Critical Values:\n",
            "\n",
            "['treeFrac', 'cropFrac', 'grassFrac', 'pastureFrac', 'treeFrac']\n"
          ]
        }
      ],
      "source": [
        "## check again stationarity\n",
        "\n",
        "from statsmodels.tsa.stattools import adfuller\n",
        "\n",
        "for c in Indonesia.columns:\n",
        "  #columns = []\n",
        "  result = adfuller(Indonesia[c])\n",
        "  if result[1]>0.05:\n",
        "    columns = columns\n",
        "    print(f'{c}')\n",
        "    print('ADF Statistic: %f' % result[0])\n",
        "    print('p-value: %f' % result[1])\n",
        "    print('Critical Values:')\n",
        "    columns.append(c)\n",
        "    print()\n",
        "  else:\n",
        "    pass\n",
        "print(columns)"
      ]
    },
    {
      "cell_type": "code",
      "execution_count": null,
      "metadata": {
        "id": "juBYQ6Pyh2Ld"
      },
      "outputs": [],
      "source": [
        "## check again stationarity taking the first difference\n",
        "\n",
        "columns = ['treeFrac', 'cropFrac', 'grassFrac', 'pastureFrac']\n",
        "\n",
        "for c in columns:\n",
        "  x = Indonesia[c].diff()\n",
        "  result = adfuller(x[1:])\n",
        "  if result[1]<0.05:\n",
        "    print(f'{c}')\n",
        "    print('ADF Statistic: %f' % result[0])\n",
        "    print('p-value: %f' % result[1])\n",
        "    print('Critical Values:')\n",
        "    print()\n",
        "  else:\n",
        "    pass"
      ]
    },
    {
      "cell_type": "code",
      "execution_count": null,
      "metadata": {
        "id": "UMcj84HZFwS9"
      },
      "outputs": [],
      "source": [
        "## check again stationarity but detrending the data\n",
        "\n",
        "columns = ['treeFrac', 'cropFrac', 'grassFrac', 'pastureFrac']\n",
        "\n",
        "for c in columns:\n",
        "  x = signal.detrend(Indonesia[c])\n",
        "  result = adfuller(x)\n",
        "  if result[1]>0.05:\n",
        "    print(f'{c}')\n",
        "    print('ADF Statistic: %f' % result[0])\n",
        "    print('p-value: %f' % result[1])\n",
        "    print('Critical Values:')\n",
        "    print()\n",
        "  else:\n",
        "    pass"
      ]
    },
    {
      "cell_type": "code",
      "execution_count": null,
      "metadata": {
        "id": "uJ7Q4qAliQlM"
      },
      "outputs": [],
      "source": [
        "## in many cases both the pvalue> alpha and t_c>critical values, so we can't reject the H_{0}: unit root present and non stationary\n",
        "## when taking the first difference, the non stationary variables ['treeFrac', 'cropFrac', 'grassFrac', 'pastureFrac'] become\n",
        "## stationary"
      ]
    },
    {
      "cell_type": "code",
      "execution_count": null,
      "metadata": {
        "id": "F6U5rSk3i15P"
      },
      "outputs": [],
      "source": [
        "for c in columns:\n",
        "  plt.plot(Indonesia[c])\n",
        "  plt.show()"
      ]
    },
    {
      "cell_type": "code",
      "execution_count": null,
      "metadata": {
        "id": "MWvFut1DirKP"
      },
      "outputs": [],
      "source": [
        "for c in columns:\n",
        "  plt.plot(np.log(Indonesia[c]))\n",
        "  plt.show()"
      ]
    },
    {
      "cell_type": "code",
      "execution_count": null,
      "metadata": {
        "id": "UwUBxIbUFpEx"
      },
      "outputs": [],
      "source": [
        "for c in columns:\n",
        "  plt.plot(signal.detrend(Indonesia[c]))\n",
        "  plt.show()"
      ]
    },
    {
      "cell_type": "markdown",
      "metadata": {
        "id": "OfYglwJPIRfc"
      },
      "source": [
        "# Model-X Knockoffs"
      ]
    },
    {
      "cell_type": "code",
      "execution_count": null,
      "metadata": {
        "id": "RexkPXeWITem"
      },
      "outputs": [],
      "source": [
        "%load_ext rpy2.ipython"
      ]
    },
    {
      "cell_type": "code",
      "execution_count": null,
      "metadata": {
        "id": "40nQSgFQIf9x"
      },
      "outputs": [],
      "source": [
        "%%R\n",
        "\n",
        "install.packages(\"knockoff\")\n",
        "library(knockoff)"
      ]
    },
    {
      "cell_type": "code",
      "execution_count": null,
      "metadata": {
        "id": "Bb0DoTeJHAte"
      },
      "outputs": [],
      "source": [
        "# %%R\n",
        "\n",
        "# set.seed(1234)\n",
        "# n = 1000          # number of observations\n",
        "# p = 1000          # number of variables\n",
        "# k = 60            # number of variables with nonzero coefficients\n",
        "# amplitude = 4.5   # signal amplitude (for noise level = 1)\n",
        "\n",
        "# # Generate the variables from a multivariate normal distribution\n",
        "# mu = rep(0,p)\n",
        "# rho = 0.25\n",
        "# Sigma = toeplitz(rho^(0:(p-1)))\n",
        "# X = matrix(rnorm(n*p),n) %*% chol(Sigma)\n",
        "\n",
        "# # Generate the response from a linear model\n",
        "# nonzero = sample(p, k)\n",
        "# beta = amplitude * (1:p %in% nonzero) / sqrt(n)\n",
        "# y.sample = function(X) X %*% beta + rnorm(n)\n",
        "# y = y.sample(X)"
      ]
    },
    {
      "cell_type": "code",
      "execution_count": null,
      "metadata": {
        "id": "zubGV8vXJ_Rp"
      },
      "outputs": [],
      "source": [
        "%%R\n",
        "install.packages('doParallel')\n",
        "library(doParallel)\n",
        "\n",
        "result = knockoff.filter(X, y)\n",
        "print(result)"
      ]
    },
    {
      "cell_type": "code",
      "execution_count": null,
      "metadata": {
        "colab": {
          "base_uri": "https://localhost:8080/"
        },
        "id": "YphvdWdPMziG",
        "outputId": "4e3906d2-37ec-4a97-902a-bfd2a9631939"
      },
      "outputs": [
        {
          "name": "stdout",
          "output_type": "stream",
          "text": [
            "Rows: 1980 Columns: 14\n",
            "── Column specification ────────────────────────────────────────────────────────\n",
            "Delimiter: \",\"\n",
            "dbl  (13): cropFrac, gpp, grassFrac, nbp, npp, pastureFrac, treeFrac, nep, p...\n",
            "dttm  (1): time\n",
            "\n",
            "ℹ Use `spec()` to retrieve the full column specification for this data.\n",
            "ℹ Specify the column types or set `show_col_types = FALSE` to quiet this message.\n",
            "# A tibble: 1,980 × 8\n",
            "   cropFrac grassFrac pastureFrac treeFrac        pr  rsds  rsus   tas\n",
            "      <dbl>     <dbl>       <dbl>    <dbl>     <dbl> <dbl> <dbl> <dbl>\n",
            " 1    0.656      7.88       0.116     12.4 0.000127   205.  13.7  299.\n",
            " 2    0.656      7.95       0.116     12.4 0.000120   207.  13.5  299.\n",
            " 3    0.656      8.03       0.116     12.4 0.000123   209.  13.7  299.\n",
            " 4    0.656      8.11       0.116     12.4 0.000116   209.  13.7  300.\n",
            " 5    0.656      8.18       0.116     12.4 0.0000781  212.  14.3  300.\n",
            " 6    0.656      8.22       0.116     12.4 0.0000585  202.  14.0  299.\n",
            " 7    0.656      8.23       0.116     12.4 0.0000572  200.  13.7  299.\n",
            " 8    0.656      8.17       0.116     12.4 0.0000727  208.  13.7  299.\n",
            " 9    0.656      8.05       0.116     12.4 0.0000734  225.  14.3  299.\n",
            "10    0.656      8.01       0.116     12.4 0.0000840  230.  14.8  299.\n",
            "# ℹ 1,970 more rows\n",
            "# ℹ Use `print(n = ...)` to see more rows\n"
          ]
        }
      ],
      "source": [
        "%%R\n",
        "\n",
        "library(readr)\n",
        "Indonesia <- read_csv(\"Indonesia_timeseries_mean.csv\")\n",
        "#columns_to_drop <- ['gpp','nbp','npp','nep','areacella']\n",
        "within(Indonesia, rm('time','gpp','nbp','npp','nep','areacella'))"
      ]
    },
    {
      "cell_type": "code",
      "execution_count": null,
      "metadata": {
        "id": "CqPvepmgKEP4"
      },
      "outputs": [],
      "source": [
        "%%R\n",
        "p = 8\n",
        "n = 1980\n",
        "mu = rep(0,p)\n",
        "rho = 0.10\n",
        "Sigma = toeplitz(rho^(0:(p-1)))\n",
        "X = matrix(rnorm(n*p),n) %*% chol(Sigma)"
      ]
    },
    {
      "cell_type": "code",
      "execution_count": null,
      "metadata": {
        "id": "sABov4YtONxn"
      },
      "outputs": [],
      "source": [
        "%%R\n",
        "\n",
        "X_k = create.gaussian(X, mu, Sigma)"
      ]
    },
    {
      "cell_type": "code",
      "execution_count": null,
      "metadata": {
        "colab": {
          "background_save": true
        },
        "id": "ww4KrHxNOXxJ"
      },
      "outputs": [],
      "source": [
        "%%R\n",
        "\n",
        "X_k"
      ]
    },
    {
      "cell_type": "code",
      "execution_count": null,
      "metadata": {
        "id": "jG0IgE5sObzo"
      },
      "outputs": [],
      "source": []
    }
  ],
  "metadata": {
    "colab": {
      "collapsed_sections": [
        "prry6JFYhCmi"
      ],
      "provenance": [],
      "authorship_tag": "ABX9TyOsTI7HxK9VQWF3Xn6e4bhe",
      "include_colab_link": true
    },
    "kernelspec": {
      "display_name": "Python 3",
      "name": "python3"
    },
    "language_info": {
      "name": "python"
    }
  },
  "nbformat": 4,
  "nbformat_minor": 0
}