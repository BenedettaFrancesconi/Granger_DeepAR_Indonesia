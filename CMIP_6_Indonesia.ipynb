{
  "nbformat": 4,
  "nbformat_minor": 0,
  "metadata": {
    "colab": {
      "provenance": [],
      "authorship_tag": "ABX9TyPaDc+LiReqnCtb6NdQR7g1",
      "include_colab_link": true
    },
    "kernelspec": {
      "name": "python3",
      "display_name": "Python 3"
    },
    "language_info": {
      "name": "python"
    }
  },
  "cells": [
    {
      "cell_type": "markdown",
      "metadata": {
        "id": "view-in-github",
        "colab_type": "text"
      },
      "source": [
        "<a href=\"https://colab.research.google.com/github/BenedettaFrancesconi/Granger_DeepAR_Indonesia/blob/main/CMIP_6_Indonesia.ipynb\" target=\"_parent\"><img src=\"https://colab.research.google.com/assets/colab-badge.svg\" alt=\"Open In Colab\"/></a>"
      ]
    },
    {
      "cell_type": "code",
      "source": [
        "pip install netCDF4"
      ],
      "metadata": {
        "id": "qnRHBYZymKYe"
      },
      "execution_count": null,
      "outputs": []
    },
    {
      "cell_type": "code",
      "source": [
        "pip install cartopy"
      ],
      "metadata": {
        "id": "r4lcolThmO2S"
      },
      "execution_count": null,
      "outputs": []
    },
    {
      "cell_type": "code",
      "source": [
        "pip install intake"
      ],
      "metadata": {
        "id": "tAr4db2OmXwo"
      },
      "execution_count": null,
      "outputs": []
    },
    {
      "cell_type": "code",
      "source": [
        "pip install xmip"
      ],
      "metadata": {
        "id": "4vh3j6VUmeVL"
      },
      "execution_count": null,
      "outputs": []
    },
    {
      "cell_type": "code",
      "source": [
        "pip install xarrayutils"
      ],
      "metadata": {
        "id": "s6mfcFE5migS"
      },
      "execution_count": null,
      "outputs": []
    },
    {
      "cell_type": "code",
      "source": [
        "#pip install datatree"
      ],
      "metadata": {
        "id": "NSWjOg89moyd"
      },
      "execution_count": null,
      "outputs": []
    },
    {
      "cell_type": "code",
      "source": [
        "pip install intake_esm"
      ],
      "metadata": {
        "id": "51wJbyPnr5PH"
      },
      "execution_count": null,
      "outputs": []
    },
    {
      "cell_type": "code",
      "execution_count": null,
      "metadata": {
        "colab": {
          "base_uri": "https://localhost:8080/"
        },
        "id": "e_6UX0tNXPG1",
        "outputId": "a414e7b3-202d-47f4-a9f1-f391b8709a41"
      },
      "outputs": [
        {
          "output_type": "stream",
          "name": "stdout",
          "text": [
            "Using matplotlib backend: agg\n"
          ]
        }
      ],
      "source": [
        "%matplotlib\n",
        "%matplotlib inline\n",
        "\n",
        "# imports\n",
        "import numpy as np\n",
        "from netCDF4 import Dataset\n",
        "import matplotlib.pyplot as plt\n",
        "import cartopy.crs as ccrs\n",
        "import pooch\n",
        "import xarray as xr\n",
        "import os\n",
        "\n",
        "import intake\n",
        "import numpy as np\n",
        "import matplotlib.pyplot as plt\n",
        "import xarray as xr\n",
        "\n",
        "from xmip.preprocessing import combined_preprocessing\n",
        "from xarrayutils.plotting import shaded_line_plot\n",
        "from xmip.utils import google_cmip_col\n",
        "\n",
        "#from datatree import DataTree\n",
        "from xmip.postprocessing import _parse_metric\n",
        "\n",
        "import cartopy.crs as ccrs\n",
        "import pooch\n",
        "import os\n",
        "import tempfile\n",
        "import pandas as pd\n",
        "from IPython.display import display, HTML, Markdown\n"
      ]
    },
    {
      "cell_type": "code",
      "source": [
        "import intake_esm\n",
        "url = intake_esm.tutorial.get_url('google_cmip6')\n",
        "print(url)"
      ],
      "metadata": {
        "colab": {
          "base_uri": "https://localhost:8080/"
        },
        "id": "na0RH0sxmHdP",
        "outputId": "127e5b84-9108-44ac-eab7-245605127b10"
      },
      "execution_count": null,
      "outputs": [
        {
          "output_type": "stream",
          "name": "stdout",
          "text": [
            "https://raw.githubusercontent.com/intake/intake-esm/main/tutorial-catalogs/GOOGLE-CMIP6.json\n"
          ]
        }
      ]
    },
    {
      "cell_type": "code",
      "source": [
        "url = 'https://storage.googleapis.com/cmip6/pangeo-cmip6.json'\n",
        "print(url)"
      ],
      "metadata": {
        "colab": {
          "base_uri": "https://localhost:8080/"
        },
        "id": "EHJ79mzoqWck",
        "outputId": "b863681d-3c84-4d0a-84fc-1b817f5dcb69"
      },
      "execution_count": null,
      "outputs": [
        {
          "output_type": "stream",
          "name": "stdout",
          "text": [
            "https://storage.googleapis.com/cmip6/pangeo-cmip6.json\n"
          ]
        }
      ]
    },
    {
      "cell_type": "code",
      "source": [
        "cat = intake.open_esm_datastore(url)\n",
        "cat"
      ],
      "metadata": {
        "id": "uhH2HdCisLrQ",
        "outputId": "37573959-f0ab-4efb-abac-cab5432c75ed",
        "colab": {
          "base_uri": "https://localhost:8080/",
          "height": 361
        }
      },
      "execution_count": null,
      "outputs": [
        {
          "output_type": "error",
          "ename": "AttributeError",
          "evalue": "ignored",
          "traceback": [
            "\u001b[0;31m---------------------------------------------------------------------------\u001b[0m",
            "\u001b[0;31mAttributeError\u001b[0m                            Traceback (most recent call last)",
            "\u001b[0;32m<ipython-input-22-5948fd6c6856>\u001b[0m in \u001b[0;36m<cell line: 1>\u001b[0;34m()\u001b[0m\n\u001b[0;32m----> 1\u001b[0;31m \u001b[0mcat\u001b[0m \u001b[0;34m=\u001b[0m \u001b[0mintake\u001b[0m\u001b[0;34m.\u001b[0m\u001b[0mopen_esm_datastore\u001b[0m\u001b[0;34m(\u001b[0m\u001b[0murl\u001b[0m\u001b[0;34m)\u001b[0m\u001b[0;34m\u001b[0m\u001b[0;34m\u001b[0m\u001b[0m\n\u001b[0m\u001b[1;32m      2\u001b[0m \u001b[0mcat\u001b[0m\u001b[0;34m\u001b[0m\u001b[0;34m\u001b[0m\u001b[0m\n",
            "\u001b[0;32m/usr/local/lib/python3.10/dist-packages/intake/__init__.py\u001b[0m in \u001b[0;36m__getattr__\u001b[0;34m(attr)\u001b[0m\n\u001b[1;32m     68\u001b[0m         \u001b[0;32melse\u001b[0m\u001b[0;34m:\u001b[0m\u001b[0;34m\u001b[0m\u001b[0;34m\u001b[0m\u001b[0m\n\u001b[1;32m     69\u001b[0m             \u001b[0mregistered_methods\u001b[0m \u001b[0;34m=\u001b[0m \u001b[0;34m[\u001b[0m\u001b[0;34mf\"open_{driver}\"\u001b[0m \u001b[0;32mfor\u001b[0m \u001b[0mdriver\u001b[0m \u001b[0;32min\u001b[0m \u001b[0mregistry\u001b[0m\u001b[0;34m.\u001b[0m\u001b[0mdrivers\u001b[0m\u001b[0;34m.\u001b[0m\u001b[0menabled_plugins\u001b[0m\u001b[0;34m(\u001b[0m\u001b[0;34m)\u001b[0m\u001b[0;34m]\u001b[0m\u001b[0;34m\u001b[0m\u001b[0;34m\u001b[0m\u001b[0m\n\u001b[0;32m---> 70\u001b[0;31m             raise AttributeError(\n\u001b[0m\u001b[1;32m     71\u001b[0m                 \u001b[0;34mf\"Unknown open method '{attr}'. \"\u001b[0m\u001b[0;34m\u001b[0m\u001b[0;34m\u001b[0m\u001b[0m\n\u001b[1;32m     72\u001b[0m                 \u001b[0;34m\"Do you need to install a new driver from the plugin directory? \"\u001b[0m\u001b[0;34m\u001b[0m\u001b[0;34m\u001b[0m\u001b[0m\n",
            "\u001b[0;31mAttributeError\u001b[0m: Unknown open method 'open_esm_datastore'. Do you need to install a new driver from the plugin directory? https://intake.readthedocs.io/en/latest/plugin-directory.html\nRegistered opener methods: ['open_alias', 'open_catalog', 'open_csv', 'open_intake_remote', 'open_json', 'open_jsonl', 'open_ndzarr', 'open_numpy', 'open_textfiles', 'open_tiled', 'open_tiled_cat', 'open_yaml_file_cat', 'open_yaml_files_cat', 'open_zarr_cat']"
          ]
        }
      ]
    },
    {
      "cell_type": "code",
      "source": [],
      "metadata": {
        "id": "0JIbgywksPES"
      },
      "execution_count": null,
      "outputs": []
    }
  ]
}